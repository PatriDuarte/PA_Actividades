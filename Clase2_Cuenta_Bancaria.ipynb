{
  "nbformat": 4,
  "nbformat_minor": 0,
  "metadata": {
    "colab": {
      "provenance": [],
      "include_colab_link": true
    },
    "kernelspec": {
      "name": "python3",
      "display_name": "Python 3"
    },
    "language_info": {
      "name": "python"
    }
  },
  "cells": [
    {
      "cell_type": "markdown",
      "metadata": {
        "id": "view-in-github",
        "colab_type": "text"
      },
      "source": [
        "<a href=\"https://colab.research.google.com/github/PatriDuarte/PA_Actividades/blob/main/Clase2_Cuenta_Bancaria.ipynb\" target=\"_parent\"><img src=\"https://colab.research.google.com/assets/colab-badge.svg\" alt=\"Open In Colab\"/></a>"
      ]
    },
    {
      "cell_type": "markdown",
      "source": [
        "1) Cuentas bancarias "
      ],
      "metadata": {
        "id": "NamTs51Vdrdd"
      }
    },
    {
      "cell_type": "code",
      "execution_count": 2,
      "metadata": {
        "id": "x1Kn9JtkdJZI"
      },
      "outputs": [],
      "source": [
        "class CuentaBancaria():\n",
        "    ''' Clase que nos permite la gestión de una Cuenta Bancaria genérica!\n",
        "    '''\n",
        "    \n",
        "    def __init__(self, saldo_inicial, nombre, apellido, moneda = '$'):\n",
        "        # TODO: Ver la forma de soportar cajas de ahorro y/o cuentas corrientes\n",
        "        self.movimientos = []\n",
        "        self.saldo = saldo_inicial\n",
        "        self.nombre = nombre\n",
        "        self.apellido = apellido\n",
        "        self.moneda = moneda\n",
        "\n",
        "    def depositar(self, monto):\n",
        "        '''Método que nos permite realizar un depósito bancario'''\n",
        "        self.movimientos.append('DEPOSITO: ' + str(monto))\n",
        "        self.saldo = self.saldo + monto\n",
        "\n",
        "\n",
        "    def extraer(self, monto):\n",
        "        '''Método que nos permite realizar una extracción de un cuenta bancaria'''\n",
        "        if self.saldo - monto >= 0:\n",
        "            self.movimientos.append('EXTRACCION: ' + str(monto))\n",
        "            self.saldo = self.saldo - monto\n",
        "        else:\n",
        "           self.movimientos.append('SALDO INSUFICIENTE: ' + str(monto)) \n",
        "           print(\"Saldo insuficiente\")\n",
        "        \n",
        "\n",
        "    def datos_titular(self):\n",
        "        '''Método que nos permite mostrar los datos del titular y su saldo'''\n",
        "        return self.apellido + ', ' + self.nombre + \" con el saldo: \" + str(self.saldo) + \" \" + self.moneda\n",
        "    \n",
        "    def datos_saldo(self):\n",
        "        return self.saldo\n",
        "\n",
        "    def _reset_saldo(self):\n",
        "        self.saldo = 0 \n",
        "\n",
        "    def datos_movimientos(self):\n",
        "        return list(self.movimientos)    \n",
        "     \n"
      ]
    },
    {
      "cell_type": "code",
      "source": [
        "#instanciar la clase Cuenta Bancaria\n",
        "mi_cuenta = CuentaBancaria(1000, \"Juan\", \"Pérez\", \"USD\")\n",
        "mi_cuenta.depositar(500)\n",
        "mi_cuenta.extraer(2000)\n",
        "print(\"El saldo actual de la cuenta es:\", mi_cuenta.datos_saldo(), mi_cuenta.moneda)\n",
        "print(\"Movimientos realizados:\", mi_cuenta.datos_movimientos())"
      ],
      "metadata": {
        "colab": {
          "base_uri": "https://localhost:8080/"
        },
        "id": "-SsdYinJ5QHH",
        "outputId": "c8be5899-a34b-4364-ac59-d95f2dee713e"
      },
      "execution_count": 17,
      "outputs": [
        {
          "output_type": "stream",
          "name": "stdout",
          "text": [
            "Saldo insuficiente\n",
            "El saldo actual de la cuenta es: 1500 USD\n",
            "Movimientos realizados: ['DEPOSITO: 500', 'SALDO INSUFICIENTE: 2000']\n"
          ]
        }
      ]
    },
    {
      "cell_type": "markdown",
      "source": [
        "Caja de Ahorro y Cuenta Corriente"
      ],
      "metadata": {
        "id": "ZBAcGX-v5Sed"
      }
    },
    {
      "cell_type": "code",
      "source": [
        "class CajaDeAhorro (CuentaBancaria):\n",
        "    def __init__(self, saldo_inicial, nombre, apellido, moneda='$'):\n",
        "            super().__init__(saldo_inicial, nombre, apellido, moneda)\n",
        "\n",
        "class CuentaCorriente(CuentaBancaria):\n",
        "    def __init__(self, saldo_inicial, nombre, apellido, moneda='$', descubierto=0):\n",
        "            super().__init__(saldo_inicial, nombre, apellido, moneda)\n",
        "            self.descubierto = descubierto\n",
        "\n",
        "    def extraer(self, monto):\n",
        "            '''Método que nos permite realizar una extracción de una cuenta corriente'''\n",
        "            if self.saldo + self.descubierto - monto >= 0:\n",
        "                self.movimientos.append('EXTRACCION: ' + str(monto))\n",
        "                self.saldo = self.saldo - monto\n",
        "                if self.saldo < 0:\n",
        "                    self.descubierto = self.descubierto + self.saldo\n",
        "                    \n",
        "            else:\n",
        "                self.movimientos.append('SALDO INSUFICIENTE: ' + str(monto)) \n",
        "                print(\"Saldo insuficiente\")"
      ],
      "metadata": {
        "id": "a84PR4Bi5FiX"
      },
      "execution_count": 23,
      "outputs": []
    },
    {
      "cell_type": "code",
      "source": [
        "#instanciar la clase CuentaCorriente\n",
        "mi_cuentacorriente = CuentaCorriente(1000, \"Juan\", \"Pérez\", \"USD\",2000)\n",
        "mi_cuentacorriente.depositar(500)\n",
        "mi_cuentacorriente.extraer(3000)\n",
        "print(\"El saldo actual de la cuenta es:\", mi_cuentacorriente.datos_saldo(), mi_cuentacorriente.moneda)\n",
        "print(\"Movimientos realizados:\", mi_cuentacorriente.datos_movimientos())"
      ],
      "metadata": {
        "colab": {
          "base_uri": "https://localhost:8080/"
        },
        "id": "oRYzGTsf5ygO",
        "outputId": "c1dc0082-0ac4-466e-9ba1-caf0febc4165"
      },
      "execution_count": 24,
      "outputs": [
        {
          "output_type": "stream",
          "name": "stdout",
          "text": [
            "El saldo actual de la cuenta es: -1500 USD\n",
            "Movimientos realizados: ['DEPOSITO: 500', 'EXTRACCION: 3000']\n"
          ]
        }
      ]
    }
  ]
}