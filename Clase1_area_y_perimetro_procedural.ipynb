{
  "nbformat": 4,
  "nbformat_minor": 0,
  "metadata": {
    "colab": {
      "provenance": [],
      "include_colab_link": true
    },
    "kernelspec": {
      "name": "python3",
      "display_name": "Python 3"
    },
    "language_info": {
      "name": "python"
    }
  },
  "cells": [
    {
      "cell_type": "markdown",
      "metadata": {
        "id": "view-in-github",
        "colab_type": "text"
      },
      "source": [
        "<a href=\"https://colab.research.google.com/github/PatriDuarte/PA_Actividades/blob/main/Clase1_area_y_perimetro_procedural.ipynb\" target=\"_parent\"><img src=\"https://colab.research.google.com/assets/colab-badge.svg\" alt=\"Open In Colab\"/></a>"
      ]
    },
    {
      "cell_type": "code",
      "source": [
        "#cuadrado\n",
        "lado= float(input(\"Ingresa el valor del lado del cuadrado:\"))\n",
        "#perímetro cuadrado \n",
        "perimetrocuad = 4 * lado\n",
        "print(\"El perimetro del cuadrado es:\", perimetrocuad)\n",
        "\n",
        "#area del cuadrado \n",
        "areacuad = lado * lado\n",
        "print(\"El area del cuadrado es:\", areacuad)\n"
      ],
      "metadata": {
        "colab": {
          "base_uri": "https://localhost:8080/"
        },
        "outputId": "c52e6486-52d0-4bf7-c9d2-c0f82421e351",
        "id": "Oo8ngph2Winr"
      },
      "execution_count": 3,
      "outputs": [
        {
          "output_type": "stream",
          "name": "stdout",
          "text": [
            "Ingresa el valor del lado del cuadrado:2\n",
            "El perimetro del cuadrado es: 8.0\n",
            "El area del cuadrado es: 4.0\n"
          ]
        }
      ]
    },
    {
      "cell_type": "code",
      "source": [
        "#Rectangulo\n",
        "lado1= float(input(\"Ingresa el valor de la base del rectangulo:\"))\n",
        "lado2= float(input(\"Ingresa el valor de la altura del rectangulo:\"))\n",
        "\n",
        "#perímetro rectangulo \n",
        "perimetrorect = 2*lado1 + 2*lado2\n",
        "print(\"El perimetro del rectangulo es:\", perimetrorect)\n",
        "\n",
        "#area del rectangulo \n",
        "arearect = lado1 * lado2\n",
        "print(\"El area del rectangulo es:\", arearect)"
      ],
      "metadata": {
        "colab": {
          "base_uri": "https://localhost:8080/"
        },
        "id": "2ohwLL08Z9x-",
        "outputId": "b4b001c6-f635-46c2-a309-973fc2f06fb2"
      },
      "execution_count": 4,
      "outputs": [
        {
          "output_type": "stream",
          "name": "stdout",
          "text": [
            "Ingresa el valor de la base del rectangulo:2\n",
            "Ingresa el valor de la altura del rectangulo:8\n",
            "El perimetro del rectangulo es: 20.0\n",
            "El area del rectangulo es: 16.0\n"
          ]
        }
      ]
    },
    {
      "cell_type": "code",
      "source": [
        "#Circunferencia\n",
        "import math\n",
        "radio= float(input(\"Ingresa el valor del radio de la circunferencia:\"))\n",
        "\n",
        "#perímetro circunferencia \n",
        "perimetrocirc = math.pi*radio*2\n",
        "print(\"El perimetro de la circunferencia es:\", perimetrocirc)\n",
        "\n",
        "#area de la circunferencia \n",
        "areacirc = math.pi*radio**2\n",
        "print(\"El area de la circunferencia es:\", areacirc)"
      ],
      "metadata": {
        "colab": {
          "base_uri": "https://localhost:8080/"
        },
        "id": "yHkmbwquXn-4",
        "outputId": "24025d93-ccf6-43b1-fc7b-3c0af01bf955"
      },
      "execution_count": 5,
      "outputs": [
        {
          "output_type": "stream",
          "name": "stdout",
          "text": [
            "Ingresa el valor del radio de la circunferencia:5\n",
            "El perimetro de la circunferencia es: 31.41592653589793\n",
            "El area de la circunferencia es: 78.53981633974483\n"
          ]
        }
      ]
    }
  ]
}