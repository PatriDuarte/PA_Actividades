{
  "nbformat": 4,
  "nbformat_minor": 0,
  "metadata": {
    "colab": {
      "provenance": [],
      "include_colab_link": true
    },
    "kernelspec": {
      "name": "python3",
      "display_name": "Python 3"
    },
    "language_info": {
      "name": "python"
    }
  },
  "cells": [
    {
      "cell_type": "markdown",
      "metadata": {
        "id": "view-in-github",
        "colab_type": "text"
      },
      "source": [
        "<a href=\"https://colab.research.google.com/github/PatriDuarte/PA_Actividades/blob/main/Clase2_Figuras_geometricas.ipynb\" target=\"_parent\"><img src=\"https://colab.research.google.com/assets/colab-badge.svg\" alt=\"Open In Colab\"/></a>"
      ]
    },
    {
      "cell_type": "code",
      "source": [
        "import math \n",
        "\n",
        "class FiguraGeometrica():\n",
        "  nombre = 'FG'\n",
        "  pass\n",
        "class Rectangulo(FiguraGeometrica):\n",
        "\n",
        "  def __init__(self,lado1, lado2):\n",
        "    self.lado1 = lado1\n",
        "    self.lado2 = lado2\n",
        "\n",
        "  def area(self):\n",
        "    return self.lado1 * self.lado2 \n",
        "\n",
        "  def perimetro(self):\n",
        "    return self.lado1*2 + self.lado2*2\n",
        "\n",
        "class Cuadrado(Rectangulo):\n",
        "\n",
        "  def __init__(self,lado):\n",
        "    self.lado1 = lado\n",
        "    self.lado2 = lado\n",
        "\n",
        "class Circunferencia(FiguraGeometrica):\n",
        "  def __init__(self, radio):\n",
        "    self.radio = radio\n",
        "\n",
        "  def area(self):\n",
        "    return math.pi *(self.radio)**2\n",
        "\n",
        "  def perimetro(self):\n",
        "    return math.pi *2*self.radio\n",
        "\n",
        "\n",
        "\n",
        "\n",
        "# Instanciamos objetos de la clase Cuadrado\n",
        "c1 = Cuadrado(2)\n",
        "print('Cuadrado', c1.area(), c1.perimetro(), c1.nombre)\n",
        "\n",
        "# Instanciamos objetos de la clase Rectangulo\n",
        "r1 = Rectangulo(2, 3)\n",
        "print('Rectangulo', r1.area(), r1.perimetro(), r1.nombre) \n",
        "\n",
        "#instanciamos los objetos de la clase circunferencia\n",
        "cir1 = Circunferencia(5)\n",
        "print('Circunferencia', cir1.area(), cir1.perimetro(), cir1.nombre)\n",
        "\n"
      ],
      "metadata": {
        "colab": {
          "base_uri": "https://localhost:8080/"
        },
        "id": "qj_RTyeYo5jJ",
        "outputId": "28215473-b728-4537-a571-bfa1f6d87b61"
      },
      "execution_count": 1,
      "outputs": [
        {
          "output_type": "stream",
          "name": "stdout",
          "text": [
            "Cuadrado 4 8 FG\n",
            "Rectangulo 6 10 FG\n",
            "Circunferencia 78.53981633974483 31.41592653589793 FG\n"
          ]
        }
      ]
    }
  ]
}